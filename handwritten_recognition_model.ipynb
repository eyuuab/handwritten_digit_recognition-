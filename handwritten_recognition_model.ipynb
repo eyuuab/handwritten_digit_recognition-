{
  "nbformat": 4,
  "nbformat_minor": 0,
  "metadata": {
    "colab": {
      "provenance": [],
      "authorship_tag": "ABX9TyNB1pWikMFItn840tSPlFI0",
      "include_colab_link": true
    },
    "kernelspec": {
      "name": "python3",
      "display_name": "Python 3"
    },
    "language_info": {
      "name": "python"
    }
  },
  "cells": [
    {
      "cell_type": "markdown",
      "metadata": {
        "id": "view-in-github",
        "colab_type": "text"
      },
      "source": [
        "<a href=\"https://colab.research.google.com/github/eyuuab/handwritten_digit_recognition-/blob/main/handwritten_recognition_model.ipynb\" target=\"_parent\"><img src=\"https://colab.research.google.com/assets/colab-badge.svg\" alt=\"Open In Colab\"/></a>"
      ]
    },
    {
      "cell_type": "markdown",
      "source": [
        "#Steps involved in building a handwritten digit recognition model using TensorFlow:\n",
        "**Data Preparation:** Obtain a labeled dataset of handwritten digits, such as the MNIST dataset. Split the dataset into training and testing sets.\n",
        "\n",
        "**Data Preprocessing**: Preprocess the input data to prepare it for training. This may involve normalizing the pixel values, reshaping the images, and encoding the labels.\n",
        "\n",
        "**Model Definition:** Define the architecture of the neural network model using TensorFlow. This typically involves creating the layers, specifying the number of neurons and activation functions, and connecting the layers.\n",
        "\n",
        "**Model Compilation:** Compile the model by specifying the loss function, optimizer, and evaluation metrics. For digit recognition, categorical cross-entropy is often used as the loss function.\n",
        "\n",
        "**Model Training**: Train the model using the training dataset. This involves feeding the input data into the model, computing the loss, and updating the model's weights using backpropagation. Iterate this process over multiple epochs.\n",
        "\n",
        "**Model Evaluation**: Evaluate the trained model's performance using the testing dataset. Calculate metrics such as accuracy to assess how well the model generalizes to unseen data.\n",
        "\n",
        "**Model Prediction**: Use the trained model to make predictions on new, unseen handwritten digits. Pass the digit images through the model, and obtain the predicted labels.\n",
        "\n",
        "**Model Deployment**: Deploy the trained model for use in real-world applications. This may involve saving the model's weights and architecture, creating an API or user interface for interaction, and integrating it into a larger system if required."
      ],
      "metadata": {
        "id": "JIW6ZPrHQA23"
      }
    },
    {
      "cell_type": "code",
      "execution_count": 1,
      "metadata": {
        "id": "auipek8CItO9"
      },
      "outputs": [],
      "source": [
        "import tensorflow as tf\n",
        "from tensorflow.keras import layers, models\n",
        "from tensorflow.keras.datasets import mnist\n"
      ]
    },
    {
      "cell_type": "code",
      "source": [
        "#load mninst dataset\n",
        "(x_train, y_train) , (x_test, y_test) = mnist.load_data()"
      ],
      "metadata": {
        "id": "wg8MnEUjOpCl",
        "colab": {
          "base_uri": "https://localhost:8080/"
        },
        "outputId": "e679bc7c-c559-4667-8570-3773a1938382"
      },
      "execution_count": 2,
      "outputs": [
        {
          "output_type": "stream",
          "name": "stdout",
          "text": [
            "Downloading data from https://storage.googleapis.com/tensorflow/tf-keras-datasets/mnist.npz\n",
            "11490434/11490434 [==============================] - 1s 0us/step\n"
          ]
        }
      ]
    },
    {
      "cell_type": "markdown",
      "source": [
        "**Normalization:** Scale the pixel values of the images to a range between 0 and 1. This helps in faster convergence during training and ensures numerical stability.\n",
        "\n",
        "**Reshaping:** Reshape the input images to a format that the model expects. For MNIST, the images are initially in a 3D array format (num_samples, height, width). Flatten these images into a 2D array (num_samples, height * width) or keep them as is, depending on the model architecture."
      ],
      "metadata": {
        "id": "SYDoeqmzSSBp"
      }
    },
    {
      "cell_type": "code",
      "source": [
        "# preparing the input data in a suitable format for training the model.\n",
        "# Normalize pixel values to be between 0 and 1\n",
        "x_train_normalized = x_train / 255.0\n",
        "x_test_normalized = x_test/255.0\n"
      ],
      "metadata": {
        "id": "wpeGtXuySCmJ"
      },
      "execution_count": 3,
      "outputs": []
    },
    {
      "cell_type": "code",
      "source": [
        "model = models.Sequential([\n",
        "    layers.Conv2D(32, (3, 3), activation='relu', input_shape=(28, 28, 1)),\n",
        "    layers.MaxPooling2D((2, 2)),\n",
        "    layers.Conv2D(64, (3, 3), activation='relu'),\n",
        "    layers.MaxPooling2D((2, 2)),\n",
        "    layers.Flatten(),\n",
        "    layers.Dense(64, activation='relu'),\n",
        "    layers.Dense(10, activation='softmax')\n",
        "])"
      ],
      "metadata": {
        "id": "pCglyNijFpwT"
      },
      "execution_count": 4,
      "outputs": []
    },
    {
      "cell_type": "code",
      "source": [
        "model.compile(optimizer='adam',\n",
        "              loss='sparse_categorical_crossentropy',\n",
        "              metrics=['accuracy'])\n"
      ],
      "metadata": {
        "id": "6heqUcP9QHHH"
      },
      "execution_count": 6,
      "outputs": []
    },
    {
      "cell_type": "code",
      "source": [
        "# model traning\n",
        "model.fit(x_train_normalized, y_train, epochs=5, batch_size=64, validation_split=0.1)\n"
      ],
      "metadata": {
        "colab": {
          "base_uri": "https://localhost:8080/"
        },
        "id": "FiizBQVXRbAN",
        "outputId": "bf7079d6-6cf7-4e08-eb03-dc7068da5f22"
      },
      "execution_count": 7,
      "outputs": [
        {
          "output_type": "stream",
          "name": "stdout",
          "text": [
            "Epoch 1/5\n",
            "844/844 [==============================] - 45s 51ms/step - loss: 0.1906 - accuracy: 0.9431 - val_loss: 0.0819 - val_accuracy: 0.9758\n",
            "Epoch 2/5\n",
            "844/844 [==============================] - 42s 49ms/step - loss: 0.0608 - accuracy: 0.9813 - val_loss: 0.0579 - val_accuracy: 0.9823\n",
            "Epoch 3/5\n",
            "844/844 [==============================] - 42s 50ms/step - loss: 0.0427 - accuracy: 0.9867 - val_loss: 0.0546 - val_accuracy: 0.9847\n",
            "Epoch 4/5\n",
            "844/844 [==============================] - 42s 50ms/step - loss: 0.0329 - accuracy: 0.9897 - val_loss: 0.0365 - val_accuracy: 0.9900\n",
            "Epoch 5/5\n",
            "844/844 [==============================] - 41s 49ms/step - loss: 0.0262 - accuracy: 0.9918 - val_loss: 0.0390 - val_accuracy: 0.9882\n"
          ]
        },
        {
          "output_type": "execute_result",
          "data": {
            "text/plain": [
              "<keras.src.callbacks.History at 0x7ff7ecbac850>"
            ]
          },
          "metadata": {},
          "execution_count": 7
        }
      ]
    },
    {
      "cell_type": "code",
      "source": [
        "test_loss, test_acc = model.evaluate(x_test_normalized, y_test)\n",
        "print(f'Test accuracy: {test_acc}')\n"
      ],
      "metadata": {
        "colab": {
          "base_uri": "https://localhost:8080/"
        },
        "id": "oKdlDC4ETpGc",
        "outputId": "e183811c-6e25-4139-80d8-c9bd3de49a40"
      },
      "execution_count": 9,
      "outputs": [
        {
          "output_type": "stream",
          "name": "stdout",
          "text": [
            "313/313 [==============================] - 3s 9ms/step - loss: 0.0346 - accuracy: 0.9888\n",
            "Test accuracy: 0.9887999892234802\n"
          ]
        }
      ]
    }
  ]
}